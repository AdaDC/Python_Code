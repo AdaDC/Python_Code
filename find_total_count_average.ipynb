{
 "cells": [
  {
   "cell_type": "markdown",
   "metadata": {},
   "source": [
    "# Output total, count, and average\n",
    "#### Written by Adamma Morrison\n",
    "#### Last updated July 12, 2017\n",
    "\n",
    "This program will repeatedly read numbers until user types <b>done</b>.  Then program will display total, count, and average of all the numbers. If the user enters something that isn't a number, there will be an error.\n"
   ]
  },
  {
   "cell_type": "code",
   "execution_count": 1,
   "metadata": {},
   "outputs": [
    {
     "name": "stdout",
     "output_type": "stream",
     "text": [
      "This program will give the total, count, and average of numbers entered\n",
      "Type done after last number\n",
      "Enter a number:\n",
      "1\n",
      "Enter a number:\n",
      "2\n",
      "Enter a number:\n",
      "3\n",
      "Enter a number:\n",
      "4\n",
      "Enter a number:\n",
      "5\n",
      "Enter a number:\n",
      "6\n",
      "Enter a number:\n",
      "7\n",
      "Enter a number:\n",
      "done\n",
      "Done!\n",
      "The total of the numbers entered is 28.0\n",
      "The count of numbers entered is 7\n",
      "The average of numbers entered is 4.0\n"
     ]
    }
   ],
   "source": [
    "# Initialize variables\n",
    "numList = list()\n",
    "\n",
    "print('This program will give the total, count, and average of numbers entered')\n",
    "print('Type done after last number')\n",
    "\n",
    "while True:\n",
    "    inp = input('Enter a number:\\n')\n",
    "    if inp == 'done':\n",
    "        break #program ends when user types done\n",
    "    try: #error code for non-numeric entry\n",
    "        inpFloat = float(inp)\n",
    "        numList.append(inpFloat)\n",
    "    except:\n",
    "        print(\"Input must be numeric\")\n",
    "\n",
    "print('Done!')\n",
    "\n",
    "# Compute sum, count, and average\n",
    "numListSum = sum(numList)\n",
    "numListCount = len(numList)\n",
    "if numListCount == 0:  # Makes average equal to zero if no numbers were entered\n",
    "    numListAverage = 0\n",
    "else:\n",
    "    numListAverage = numListSum/numListCount\n",
    "\n",
    "\n",
    "\n",
    "# Display results\n",
    "print(\"The total of the numbers entered is \"+str(numListSum))\n",
    "print(\"The count of numbers entered is \" +str(numListCount))\n",
    "print(\"The average of numbers entered is \" +str(numListAverage))\n"
   ]
  },
  {
   "cell_type": "code",
   "execution_count": null,
   "metadata": {},
   "outputs": [],
   "source": []
  }
 ],
 "metadata": {
  "kernelspec": {
   "display_name": "Python 3",
   "language": "python",
   "name": "python3"
  },
  "language_info": {
   "codemirror_mode": {
    "name": "ipython",
    "version": 3
   },
   "file_extension": ".py",
   "mimetype": "text/x-python",
   "name": "python",
   "nbconvert_exporter": "python",
   "pygments_lexer": "ipython3",
   "version": "3.6.5"
  }
 },
 "nbformat": 4,
 "nbformat_minor": 2
}
