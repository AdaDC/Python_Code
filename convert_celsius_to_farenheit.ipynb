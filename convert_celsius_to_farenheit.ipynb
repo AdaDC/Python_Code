{
 "cells": [
  {
   "cell_type": "markdown",
   "metadata": {},
   "source": [
    "# Convert Celsius to Farenheit\n",
    "#### Written by Adamma Morrison\n",
    "#### Last updated July 7, 2017\n",
    "\n",
    "This program converts temperature to Celsius, using the formula \n",
    "<img src=\"https://www.pharmacy-tech-test.com/images/f_c_conv.jpg\"/>"
   ]
  },
  {
   "cell_type": "code",
   "execution_count": 4,
   "metadata": {},
   "outputs": [
    {
     "name": "stdout",
     "output_type": "stream",
     "text": [
      "Enter temperature in Celsius. 63.2\n",
      "The temperature in Farenheit is 145.76\n"
     ]
    }
   ],
   "source": [
    "# Intialize variables to be used in the program\n",
    "tempF = 0\n",
    "\n",
    "# Prompt use for temperature in Celsius\n",
    "tempC = input(\"Enter temperature in Celsius. \")\n",
    "\n",
    "# Convert input to float, because the input system accepts user input as string by default.\n",
    "# Wrap this within a try-except code block to exit, as the conversion to float will fail if\n",
    "# the user supplied a non-numeric input!\n",
    "try:\n",
    "    tempC = float(tempC)\n",
    "except ValueError:\n",
    "    print(\"Temperature must be an integer.  Please try again.  Goodbye.\")\n",
    "\n",
    "# Use formula to convert temperature from Celsius to Farenheit\n",
    "tempF = (tempC * (9/5))+32\n",
    "\n",
    "# Print the result\n",
    "print(\"The temperature in Farenheit is \" +str(tempF))"
   ]
  },
  {
   "cell_type": "code",
   "execution_count": null,
   "metadata": {},
   "outputs": [],
   "source": []
  }
 ],
 "metadata": {
  "kernelspec": {
   "display_name": "Python 3",
   "language": "python",
   "name": "python3"
  },
  "language_info": {
   "codemirror_mode": {
    "name": "ipython",
    "version": 3
   },
   "file_extension": ".py",
   "mimetype": "text/x-python",
   "name": "python",
   "nbconvert_exporter": "python",
   "pygments_lexer": "ipython3",
   "version": "3.6.5"
  }
 },
 "nbformat": 4,
 "nbformat_minor": 2
}
